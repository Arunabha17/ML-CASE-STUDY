{
  "nbformat": 4,
  "nbformat_minor": 0,
  "metadata": {
    "colab": {
      "name": "ASS2.ipynb",
      "provenance": [],
      "collapsed_sections": []
    },
    "kernelspec": {
      "name": "python3",
      "display_name": "Python 3"
    }
  },
  "cells": [
    {
      "cell_type": "code",
      "metadata": {
        "id": "OAdzE3jBiK_h",
        "outputId": "53277410-3906-4b6b-da5a-b5a975098b0b",
        "colab": {
          "resources": {
            "http://localhost:8080/nbextensions/google.colab/files.js": {
              "data": "Ly8gQ29weXJpZ2h0IDIwMTcgR29vZ2xlIExMQwovLwovLyBMaWNlbnNlZCB1bmRlciB0aGUgQXBhY2hlIExpY2Vuc2UsIFZlcnNpb24gMi4wICh0aGUgIkxpY2Vuc2UiKTsKLy8geW91IG1heSBub3QgdXNlIHRoaXMgZmlsZSBleGNlcHQgaW4gY29tcGxpYW5jZSB3aXRoIHRoZSBMaWNlbnNlLgovLyBZb3UgbWF5IG9idGFpbiBhIGNvcHkgb2YgdGhlIExpY2Vuc2UgYXQKLy8KLy8gICAgICBodHRwOi8vd3d3LmFwYWNoZS5vcmcvbGljZW5zZXMvTElDRU5TRS0yLjAKLy8KLy8gVW5sZXNzIHJlcXVpcmVkIGJ5IGFwcGxpY2FibGUgbGF3IG9yIGFncmVlZCB0byBpbiB3cml0aW5nLCBzb2Z0d2FyZQovLyBkaXN0cmlidXRlZCB1bmRlciB0aGUgTGljZW5zZSBpcyBkaXN0cmlidXRlZCBvbiBhbiAiQVMgSVMiIEJBU0lTLAovLyBXSVRIT1VUIFdBUlJBTlRJRVMgT1IgQ09ORElUSU9OUyBPRiBBTlkgS0lORCwgZWl0aGVyIGV4cHJlc3Mgb3IgaW1wbGllZC4KLy8gU2VlIHRoZSBMaWNlbnNlIGZvciB0aGUgc3BlY2lmaWMgbGFuZ3VhZ2UgZ292ZXJuaW5nIHBlcm1pc3Npb25zIGFuZAovLyBsaW1pdGF0aW9ucyB1bmRlciB0aGUgTGljZW5zZS4KCi8qKgogKiBAZmlsZW92ZXJ2aWV3IEhlbHBlcnMgZm9yIGdvb2dsZS5jb2xhYiBQeXRob24gbW9kdWxlLgogKi8KKGZ1bmN0aW9uKHNjb3BlKSB7CmZ1bmN0aW9uIHNwYW4odGV4dCwgc3R5bGVBdHRyaWJ1dGVzID0ge30pIHsKICBjb25zdCBlbGVtZW50ID0gZG9jdW1lbnQuY3JlYXRlRWxlbWVudCgnc3BhbicpOwogIGVsZW1lbnQudGV4dENvbnRlbnQgPSB0ZXh0OwogIGZvciAoY29uc3Qga2V5IG9mIE9iamVjdC5rZXlzKHN0eWxlQXR0cmlidXRlcykpIHsKICAgIGVsZW1lbnQuc3R5bGVba2V5XSA9IHN0eWxlQXR0cmlidXRlc1trZXldOwogIH0KICByZXR1cm4gZWxlbWVudDsKfQoKLy8gTWF4IG51bWJlciBvZiBieXRlcyB3aGljaCB3aWxsIGJlIHVwbG9hZGVkIGF0IGEgdGltZS4KY29uc3QgTUFYX1BBWUxPQURfU0laRSA9IDEwMCAqIDEwMjQ7CgpmdW5jdGlvbiBfdXBsb2FkRmlsZXMoaW5wdXRJZCwgb3V0cHV0SWQpIHsKICBjb25zdCBzdGVwcyA9IHVwbG9hZEZpbGVzU3RlcChpbnB1dElkLCBvdXRwdXRJZCk7CiAgY29uc3Qgb3V0cHV0RWxlbWVudCA9IGRvY3VtZW50LmdldEVsZW1lbnRCeUlkKG91dHB1dElkKTsKICAvLyBDYWNoZSBzdGVwcyBvbiB0aGUgb3V0cHV0RWxlbWVudCB0byBtYWtlIGl0IGF2YWlsYWJsZSBmb3IgdGhlIG5leHQgY2FsbAogIC8vIHRvIHVwbG9hZEZpbGVzQ29udGludWUgZnJvbSBQeXRob24uCiAgb3V0cHV0RWxlbWVudC5zdGVwcyA9IHN0ZXBzOwoKICByZXR1cm4gX3VwbG9hZEZpbGVzQ29udGludWUob3V0cHV0SWQpOwp9CgovLyBUaGlzIGlzIHJvdWdobHkgYW4gYXN5bmMgZ2VuZXJhdG9yIChub3Qgc3VwcG9ydGVkIGluIHRoZSBicm93c2VyIHlldCksCi8vIHdoZXJlIHRoZXJlIGFyZSBtdWx0aXBsZSBhc3luY2hyb25vdXMgc3RlcHMgYW5kIHRoZSBQeXRob24gc2lkZSBpcyBnb2luZwovLyB0byBwb2xsIGZvciBjb21wbGV0aW9uIG9mIGVhY2ggc3RlcC4KLy8gVGhpcyB1c2VzIGEgUHJvbWlzZSB0byBibG9jayB0aGUgcHl0aG9uIHNpZGUgb24gY29tcGxldGlvbiBvZiBlYWNoIHN0ZXAsCi8vIHRoZW4gcGFzc2VzIHRoZSByZXN1bHQgb2YgdGhlIHByZXZpb3VzIHN0ZXAgYXMgdGhlIGlucHV0IHRvIHRoZSBuZXh0IHN0ZXAuCmZ1bmN0aW9uIF91cGxvYWRGaWxlc0NvbnRpbnVlKG91dHB1dElkKSB7CiAgY29uc3Qgb3V0cHV0RWxlbWVudCA9IGRvY3VtZW50LmdldEVsZW1lbnRCeUlkKG91dHB1dElkKTsKICBjb25zdCBzdGVwcyA9IG91dHB1dEVsZW1lbnQuc3RlcHM7CgogIGNvbnN0IG5leHQgPSBzdGVwcy5uZXh0KG91dHB1dEVsZW1lbnQubGFzdFByb21pc2VWYWx1ZSk7CiAgcmV0dXJuIFByb21pc2UucmVzb2x2ZShuZXh0LnZhbHVlLnByb21pc2UpLnRoZW4oKHZhbHVlKSA9PiB7CiAgICAvLyBDYWNoZSB0aGUgbGFzdCBwcm9taXNlIHZhbHVlIHRvIG1ha2UgaXQgYXZhaWxhYmxlIHRvIHRoZSBuZXh0CiAgICAvLyBzdGVwIG9mIHRoZSBnZW5lcmF0b3IuCiAgICBvdXRwdXRFbGVtZW50Lmxhc3RQcm9taXNlVmFsdWUgPSB2YWx1ZTsKICAgIHJldHVybiBuZXh0LnZhbHVlLnJlc3BvbnNlOwogIH0pOwp9CgovKioKICogR2VuZXJhdG9yIGZ1bmN0aW9uIHdoaWNoIGlzIGNhbGxlZCBiZXR3ZWVuIGVhY2ggYXN5bmMgc3RlcCBvZiB0aGUgdXBsb2FkCiAqIHByb2Nlc3MuCiAqIEBwYXJhbSB7c3RyaW5nfSBpbnB1dElkIEVsZW1lbnQgSUQgb2YgdGhlIGlucHV0IGZpbGUgcGlja2VyIGVsZW1lbnQuCiAqIEBwYXJhbSB7c3RyaW5nfSBvdXRwdXRJZCBFbGVtZW50IElEIG9mIHRoZSBvdXRwdXQgZGlzcGxheS4KICogQHJldHVybiB7IUl0ZXJhYmxlPCFPYmplY3Q+fSBJdGVyYWJsZSBvZiBuZXh0IHN0ZXBzLgogKi8KZnVuY3Rpb24qIHVwbG9hZEZpbGVzU3RlcChpbnB1dElkLCBvdXRwdXRJZCkgewogIGNvbnN0IGlucHV0RWxlbWVudCA9IGRvY3VtZW50LmdldEVsZW1lbnRCeUlkKGlucHV0SWQpOwogIGlucHV0RWxlbWVudC5kaXNhYmxlZCA9IGZhbHNlOwoKICBjb25zdCBvdXRwdXRFbGVtZW50ID0gZG9jdW1lbnQuZ2V0RWxlbWVudEJ5SWQob3V0cHV0SWQpOwogIG91dHB1dEVsZW1lbnQuaW5uZXJIVE1MID0gJyc7CgogIGNvbnN0IHBpY2tlZFByb21pc2UgPSBuZXcgUHJvbWlzZSgocmVzb2x2ZSkgPT4gewogICAgaW5wdXRFbGVtZW50LmFkZEV2ZW50TGlzdGVuZXIoJ2NoYW5nZScsIChlKSA9PiB7CiAgICAgIHJlc29sdmUoZS50YXJnZXQuZmlsZXMpOwogICAgfSk7CiAgfSk7CgogIGNvbnN0IGNhbmNlbCA9IGRvY3VtZW50LmNyZWF0ZUVsZW1lbnQoJ2J1dHRvbicpOwogIGlucHV0RWxlbWVudC5wYXJlbnRFbGVtZW50LmFwcGVuZENoaWxkKGNhbmNlbCk7CiAgY2FuY2VsLnRleHRDb250ZW50ID0gJ0NhbmNlbCB1cGxvYWQnOwogIGNvbnN0IGNhbmNlbFByb21pc2UgPSBuZXcgUHJvbWlzZSgocmVzb2x2ZSkgPT4gewogICAgY2FuY2VsLm9uY2xpY2sgPSAoKSA9PiB7CiAgICAgIHJlc29sdmUobnVsbCk7CiAgICB9OwogIH0pOwoKICAvLyBXYWl0IGZvciB0aGUgdXNlciB0byBwaWNrIHRoZSBmaWxlcy4KICBjb25zdCBmaWxlcyA9IHlpZWxkIHsKICAgIHByb21pc2U6IFByb21pc2UucmFjZShbcGlja2VkUHJvbWlzZSwgY2FuY2VsUHJvbWlzZV0pLAogICAgcmVzcG9uc2U6IHsKICAgICAgYWN0aW9uOiAnc3RhcnRpbmcnLAogICAgfQogIH07CgogIGNhbmNlbC5yZW1vdmUoKTsKCiAgLy8gRGlzYWJsZSB0aGUgaW5wdXQgZWxlbWVudCBzaW5jZSBmdXJ0aGVyIHBpY2tzIGFyZSBub3QgYWxsb3dlZC4KICBpbnB1dEVsZW1lbnQuZGlzYWJsZWQgPSB0cnVlOwoKICBpZiAoIWZpbGVzKSB7CiAgICByZXR1cm4gewogICAgICByZXNwb25zZTogewogICAgICAgIGFjdGlvbjogJ2NvbXBsZXRlJywKICAgICAgfQogICAgfTsKICB9CgogIGZvciAoY29uc3QgZmlsZSBvZiBmaWxlcykgewogICAgY29uc3QgbGkgPSBkb2N1bWVudC5jcmVhdGVFbGVtZW50KCdsaScpOwogICAgbGkuYXBwZW5kKHNwYW4oZmlsZS5uYW1lLCB7Zm9udFdlaWdodDogJ2JvbGQnfSkpOwogICAgbGkuYXBwZW5kKHNwYW4oCiAgICAgICAgYCgke2ZpbGUudHlwZSB8fCAnbi9hJ30pIC0gJHtmaWxlLnNpemV9IGJ5dGVzLCBgICsKICAgICAgICBgbGFzdCBtb2RpZmllZDogJHsKICAgICAgICAgICAgZmlsZS5sYXN0TW9kaWZpZWREYXRlID8gZmlsZS5sYXN0TW9kaWZpZWREYXRlLnRvTG9jYWxlRGF0ZVN0cmluZygpIDoKICAgICAgICAgICAgICAgICAgICAgICAgICAgICAgICAgICAgJ24vYSd9IC0gYCkpOwogICAgY29uc3QgcGVyY2VudCA9IHNwYW4oJzAlIGRvbmUnKTsKICAgIGxpLmFwcGVuZENoaWxkKHBlcmNlbnQpOwoKICAgIG91dHB1dEVsZW1lbnQuYXBwZW5kQ2hpbGQobGkpOwoKICAgIGNvbnN0IGZpbGVEYXRhUHJvbWlzZSA9IG5ldyBQcm9taXNlKChyZXNvbHZlKSA9PiB7CiAgICAgIGNvbnN0IHJlYWRlciA9IG5ldyBGaWxlUmVhZGVyKCk7CiAgICAgIHJlYWRlci5vbmxvYWQgPSAoZSkgPT4gewogICAgICAgIHJlc29sdmUoZS50YXJnZXQucmVzdWx0KTsKICAgICAgfTsKICAgICAgcmVhZGVyLnJlYWRBc0FycmF5QnVmZmVyKGZpbGUpOwogICAgfSk7CiAgICAvLyBXYWl0IGZvciB0aGUgZGF0YSB0byBiZSByZWFkeS4KICAgIGxldCBmaWxlRGF0YSA9IHlpZWxkIHsKICAgICAgcHJvbWlzZTogZmlsZURhdGFQcm9taXNlLAogICAgICByZXNwb25zZTogewogICAgICAgIGFjdGlvbjogJ2NvbnRpbnVlJywKICAgICAgfQogICAgfTsKCiAgICAvLyBVc2UgYSBjaHVua2VkIHNlbmRpbmcgdG8gYXZvaWQgbWVzc2FnZSBzaXplIGxpbWl0cy4gU2VlIGIvNjIxMTU2NjAuCiAgICBsZXQgcG9zaXRpb24gPSAwOwogICAgd2hpbGUgKHBvc2l0aW9uIDwgZmlsZURhdGEuYnl0ZUxlbmd0aCkgewogICAgICBjb25zdCBsZW5ndGggPSBNYXRoLm1pbihmaWxlRGF0YS5ieXRlTGVuZ3RoIC0gcG9zaXRpb24sIE1BWF9QQVlMT0FEX1NJWkUpOwogICAgICBjb25zdCBjaHVuayA9IG5ldyBVaW50OEFycmF5KGZpbGVEYXRhLCBwb3NpdGlvbiwgbGVuZ3RoKTsKICAgICAgcG9zaXRpb24gKz0gbGVuZ3RoOwoKICAgICAgY29uc3QgYmFzZTY0ID0gYnRvYShTdHJpbmcuZnJvbUNoYXJDb2RlLmFwcGx5KG51bGwsIGNodW5rKSk7CiAgICAgIHlpZWxkIHsKICAgICAgICByZXNwb25zZTogewogICAgICAgICAgYWN0aW9uOiAnYXBwZW5kJywKICAgICAgICAgIGZpbGU6IGZpbGUubmFtZSwKICAgICAgICAgIGRhdGE6IGJhc2U2NCwKICAgICAgICB9LAogICAgICB9OwogICAgICBwZXJjZW50LnRleHRDb250ZW50ID0KICAgICAgICAgIGAke01hdGgucm91bmQoKHBvc2l0aW9uIC8gZmlsZURhdGEuYnl0ZUxlbmd0aCkgKiAxMDApfSUgZG9uZWA7CiAgICB9CiAgfQoKICAvLyBBbGwgZG9uZS4KICB5aWVsZCB7CiAgICByZXNwb25zZTogewogICAgICBhY3Rpb246ICdjb21wbGV0ZScsCiAgICB9CiAgfTsKfQoKc2NvcGUuZ29vZ2xlID0gc2NvcGUuZ29vZ2xlIHx8IHt9OwpzY29wZS5nb29nbGUuY29sYWIgPSBzY29wZS5nb29nbGUuY29sYWIgfHwge307CnNjb3BlLmdvb2dsZS5jb2xhYi5fZmlsZXMgPSB7CiAgX3VwbG9hZEZpbGVzLAogIF91cGxvYWRGaWxlc0NvbnRpbnVlLAp9Owp9KShzZWxmKTsK",
              "ok": true,
              "headers": [
                [
                  "content-type",
                  "application/javascript"
                ]
              ],
              "status": 200,
              "status_text": ""
            }
          },
          "base_uri": "https://localhost:8080/",
          "height": 72
        }
      },
      "source": [
        "from google.colab import files\n",
        "uploaded =  files.upload()"
      ],
      "execution_count": 83,
      "outputs": [
        {
          "output_type": "display_data",
          "data": {
            "text/html": [
              "\n",
              "     <input type=\"file\" id=\"files-e1b48d30-f681-4558-8a1a-423a7b48be8f\" name=\"files[]\" multiple disabled\n",
              "        style=\"border:none\" />\n",
              "     <output id=\"result-e1b48d30-f681-4558-8a1a-423a7b48be8f\">\n",
              "      Upload widget is only available when the cell has been executed in the\n",
              "      current browser session. Please rerun this cell to enable.\n",
              "      </output>\n",
              "      <script src=\"/nbextensions/google.colab/files.js\"></script> "
            ],
            "text/plain": [
              "<IPython.core.display.HTML object>"
            ]
          },
          "metadata": {
            "tags": []
          }
        },
        {
          "output_type": "stream",
          "text": [
            "Saving file1.csv to file1 (2).csv\n"
          ],
          "name": "stdout"
        }
      ]
    },
    {
      "cell_type": "code",
      "metadata": {
        "id": "8ZzdQf4eiTaU"
      },
      "source": [
        "import numpy as np\n",
        "import pandas as pd\n",
        "import matplotlib.pyplot as plt\n",
        "import seaborn as sns\n",
        "place = pd.read_csv(\"file1.csv\")"
      ],
      "execution_count": 84,
      "outputs": []
    },
    {
      "cell_type": "code",
      "metadata": {
        "id": "TSPYNxgsi2Ey",
        "outputId": "6d94204d-636c-41d8-f339-398402ea7a12",
        "colab": {
          "base_uri": "https://localhost:8080/"
        }
      },
      "source": [
        "place.info()"
      ],
      "execution_count": 85,
      "outputs": [
        {
          "output_type": "stream",
          "text": [
            "<class 'pandas.core.frame.DataFrame'>\n",
            "RangeIndex: 1031 entries, 0 to 1030\n",
            "Data columns (total 51 columns):\n",
            " #   Column                                                   Non-Null Count  Dtype  \n",
            "---  ------                                                   --------------  -----  \n",
            " 0   Unnamed: 0                                               1031 non-null   int64  \n",
            " 1   TPP Active 5th August 2019-6:15 PM                       1031 non-null   object \n",
            " 2   Current Course                                           1031 non-null   object \n",
            " 3   College Name                                             1031 non-null   object \n",
            " 4   Matric Percentage (Xth)                                  1031 non-null   float64\n",
            " 5   Matric Year of Passing                                   1031 non-null   int64  \n",
            " 6   Matric BOARD                                             1031 non-null   object \n",
            " 7   XII Percentage %                                         1017 non-null   float64\n",
            " 8   Best of XII or Diploma                                   1031 non-null   float64\n",
            " 9   XIIth Stream                                             1015 non-null   object \n",
            " 10  XII : Year of Passing                                    1014 non-null   float64\n",
            " 11  XII Board                                                1012 non-null   object \n",
            " 12  Diploma %                                                16 non-null     float64\n",
            " 13  Diploma : Branch                                         16 non-null     object \n",
            " 14  Diploma : Passing Year                                   16 non-null     float64\n",
            " 15  Diploma : College Name & City                            16 non-null     object \n",
            " 16  Diploma : Board                                          15 non-null     object \n",
            " 17  CGPA Till 6th Sem -20-July-2019                          1031 non-null   float64\n",
            " 18  Backlogs                                                 1031 non-null   int64  \n",
            " 19  Graduation : Year of Passing                             1031 non-null   object \n",
            " 20  Graduation : Course                                      1031 non-null   object \n",
            " 21  Graduation : Stream                                      1031 non-null   object \n",
            " 22  Graduation : College                                     1031 non-null   object \n",
            " 23  Graduation : University Name                             1031 non-null   object \n",
            " 24  PG CGPA till 2nd Sem - 31 May 2019                       0 non-null      float64\n",
            " 25  Backlogs.1                                               0 non-null      float64\n",
            " 26  State                                                    1031 non-null   object \n",
            " 27  Catagory                                                 1031 non-null   object \n",
            " 28  Gender                                                   1031 non-null   object \n",
            " 29  Details Of Additional Course/certification               627 non-null    object \n",
            " 30  Experience (if Any), Company Name                        214 non-null    object \n",
            " 31  Experience (if Any), Designation                         197 non-null    object \n",
            " 32  Experience (if Any), Salary (per Year [lpa])             171 non-null    object \n",
            " 33  Experience (if Any), Duration Of Work (years Or Months)  188 non-null    object \n",
            " 34  Training Done At (write Company/institute Name)          1031 non-null   object \n",
            " 35  Training Location (city)                                 939 non-null    object \n",
            " 36  Duration                                                 981 non-null    object \n",
            " 37  Project Title (during 6 Week/1-2 Months)                 906 non-null    object \n",
            " 38  Project Software/language Name                           894 non-null    object \n",
            " 39  BEST of E                                                1031 non-null   int64  \n",
            " 40  BEST of Q                                                1031 non-null   int64  \n",
            " 41  BEST of L                                                1031 non-null   int64  \n",
            " 42  BEST of Write-X                                          1031 non-null   int64  \n",
            " 43  BEST of CP                                               1031 non-null   int64  \n",
            " 44  BEST of Domain                                           1031 non-null   int64  \n",
            " 45  BEST of Automata                                         1031 non-null   int64  \n",
            " 46  AGE                                                      1031 non-null   int64  \n",
            " 47  Company Name                                             1031 non-null   object \n",
            " 48  Package From (in LPA)                                    1031 non-null   float64\n",
            " 49  Package To (in LPA)                                      1031 non-null   float64\n",
            " 50  Status                                                   1031 non-null   object \n",
            "dtypes: float64(11), int64(11), object(29)\n",
            "memory usage: 410.9+ KB\n"
          ],
          "name": "stdout"
        }
      ]
    },
    {
      "cell_type": "code",
      "metadata": {
        "id": "vDjWqbXsjUv6",
        "outputId": "7d245aea-212c-4d8f-9da5-bc1ff1d4148e",
        "colab": {
          "base_uri": "https://localhost:8080/"
        }
      },
      "source": [
        "round(place.isnull().sum()/len(place.index), 2)*100"
      ],
      "execution_count": 86,
      "outputs": [
        {
          "output_type": "execute_result",
          "data": {
            "text/plain": [
              "Unnamed: 0                                                   0.0\n",
              "TPP Active 5th August 2019-6:15 PM                           0.0\n",
              "Current Course                                               0.0\n",
              "College Name                                                 0.0\n",
              "Matric Percentage (Xth)                                      0.0\n",
              "Matric Year of Passing                                       0.0\n",
              "Matric BOARD                                                 0.0\n",
              "XII Percentage %                                             1.0\n",
              "Best of XII or Diploma                                       0.0\n",
              "XIIth Stream                                                 2.0\n",
              "XII : Year of Passing                                        2.0\n",
              "XII Board                                                    2.0\n",
              "Diploma %                                                   98.0\n",
              "Diploma : Branch                                            98.0\n",
              "Diploma : Passing Year                                      98.0\n",
              "Diploma : College Name & City                               98.0\n",
              "Diploma : Board                                             99.0\n",
              "CGPA Till 6th Sem -20-July-2019                              0.0\n",
              "Backlogs                                                     0.0\n",
              "Graduation : Year of Passing                                 0.0\n",
              "Graduation : Course                                          0.0\n",
              "Graduation : Stream                                          0.0\n",
              "Graduation : College                                         0.0\n",
              "Graduation : University Name                                 0.0\n",
              "PG CGPA till 2nd Sem - 31 May 2019                         100.0\n",
              "Backlogs.1                                                 100.0\n",
              "State                                                        0.0\n",
              "Catagory                                                     0.0\n",
              "Gender                                                       0.0\n",
              "Details Of Additional Course/certification                  39.0\n",
              "Experience (if Any), Company Name                           79.0\n",
              "Experience (if Any), Designation                            81.0\n",
              "Experience (if Any), Salary (per Year [lpa])                83.0\n",
              "Experience (if Any), Duration Of Work (years Or Months)     82.0\n",
              "Training Done At (write Company/institute Name)              0.0\n",
              "Training Location (city)                                     9.0\n",
              "Duration                                                     5.0\n",
              "Project Title (during 6 Week/1-2 Months)                    12.0\n",
              "Project Software/language Name                              13.0\n",
              "BEST of E                                                    0.0\n",
              "BEST of Q                                                    0.0\n",
              "BEST of L                                                    0.0\n",
              "BEST of Write-X                                              0.0\n",
              "BEST of CP                                                   0.0\n",
              "BEST of Domain                                               0.0\n",
              "BEST of Automata                                             0.0\n",
              "AGE                                                          0.0\n",
              "Company Name                                                 0.0\n",
              "Package From (in LPA)                                        0.0\n",
              "Package To (in LPA)                                          0.0\n",
              "Status                                                       0.0\n",
              "dtype: float64"
            ]
          },
          "metadata": {
            "tags": []
          },
          "execution_count": 86
        }
      ]
    },
    {
      "cell_type": "code",
      "metadata": {
        "id": "QoVClRfVjmRJ",
        "outputId": "544872e0-5692-44ef-e653-56ea8fb4e179",
        "colab": {
          "base_uri": "https://localhost:8080/",
          "height": 1000
        }
      },
      "source": [
        "place"
      ],
      "execution_count": 87,
      "outputs": [
        {
          "output_type": "execute_result",
          "data": {
            "text/html": [
              "<div>\n",
              "<style scoped>\n",
              "    .dataframe tbody tr th:only-of-type {\n",
              "        vertical-align: middle;\n",
              "    }\n",
              "\n",
              "    .dataframe tbody tr th {\n",
              "        vertical-align: top;\n",
              "    }\n",
              "\n",
              "    .dataframe thead th {\n",
              "        text-align: right;\n",
              "    }\n",
              "</style>\n",
              "<table border=\"1\" class=\"dataframe\">\n",
              "  <thead>\n",
              "    <tr style=\"text-align: right;\">\n",
              "      <th></th>\n",
              "      <th>Unnamed: 0</th>\n",
              "      <th>TPP Active 5th August 2019-6:15 PM</th>\n",
              "      <th>Current Course</th>\n",
              "      <th>College Name</th>\n",
              "      <th>Matric Percentage (Xth)</th>\n",
              "      <th>Matric Year of Passing</th>\n",
              "      <th>Matric BOARD</th>\n",
              "      <th>XII Percentage %</th>\n",
              "      <th>Best of XII or Diploma</th>\n",
              "      <th>XIIth Stream</th>\n",
              "      <th>XII : Year of Passing</th>\n",
              "      <th>XII Board</th>\n",
              "      <th>Diploma %</th>\n",
              "      <th>Diploma : Branch</th>\n",
              "      <th>Diploma : Passing Year</th>\n",
              "      <th>Diploma : College Name &amp; City</th>\n",
              "      <th>Diploma : Board</th>\n",
              "      <th>CGPA Till 6th Sem -20-July-2019</th>\n",
              "      <th>Backlogs</th>\n",
              "      <th>Graduation : Year of Passing</th>\n",
              "      <th>Graduation : Course</th>\n",
              "      <th>Graduation : Stream</th>\n",
              "      <th>Graduation : College</th>\n",
              "      <th>Graduation : University Name</th>\n",
              "      <th>PG CGPA till 2nd Sem - 31 May 2019</th>\n",
              "      <th>Backlogs.1</th>\n",
              "      <th>State</th>\n",
              "      <th>Catagory</th>\n",
              "      <th>Gender</th>\n",
              "      <th>Details Of Additional Course/certification</th>\n",
              "      <th>Experience (if Any), Company Name</th>\n",
              "      <th>Experience (if Any), Designation</th>\n",
              "      <th>Experience (if Any), Salary (per Year [lpa])</th>\n",
              "      <th>Experience (if Any), Duration Of Work (years Or Months)</th>\n",
              "      <th>Training Done At (write Company/institute Name)</th>\n",
              "      <th>Training Location (city)</th>\n",
              "      <th>Duration</th>\n",
              "      <th>Project Title (during 6 Week/1-2 Months)</th>\n",
              "      <th>Project Software/language Name</th>\n",
              "      <th>BEST of E</th>\n",
              "      <th>BEST of Q</th>\n",
              "      <th>BEST of L</th>\n",
              "      <th>BEST of Write-X</th>\n",
              "      <th>BEST of CP</th>\n",
              "      <th>BEST of Domain</th>\n",
              "      <th>BEST of Automata</th>\n",
              "      <th>AGE</th>\n",
              "      <th>Company Name</th>\n",
              "      <th>Package From (in LPA)</th>\n",
              "      <th>Package To (in LPA)</th>\n",
              "      <th>Status</th>\n",
              "    </tr>\n",
              "  </thead>\n",
              "  <tbody>\n",
              "    <tr>\n",
              "      <th>0</th>\n",
              "      <td>0</td>\n",
              "      <td>Yes</td>\n",
              "      <td>B.E - CSE</td>\n",
              "      <td>University Institute of Engineering (UIE)</td>\n",
              "      <td>84.00</td>\n",
              "      <td>2013</td>\n",
              "      <td>Rajasthan board of secondary education</td>\n",
              "      <td>84.20</td>\n",
              "      <td>84.20</td>\n",
              "      <td>Non - Medical</td>\n",
              "      <td>2015.0</td>\n",
              "      <td>Rajasthan board of secondary education</td>\n",
              "      <td>NaN</td>\n",
              "      <td>NaN</td>\n",
              "      <td>NaN</td>\n",
              "      <td>NaN</td>\n",
              "      <td>NaN</td>\n",
              "      <td>7.96</td>\n",
              "      <td>0</td>\n",
              "      <td>2020</td>\n",
              "      <td>B.E</td>\n",
              "      <td>B.E - CSE</td>\n",
              "      <td>Chandigarh University</td>\n",
              "      <td>Chandigarh University</td>\n",
              "      <td>NaN</td>\n",
              "      <td>NaN</td>\n",
              "      <td>Rajasthan</td>\n",
              "      <td>General</td>\n",
              "      <td>Male</td>\n",
              "      <td>NaN</td>\n",
              "      <td>NaN</td>\n",
              "      <td>NaN</td>\n",
              "      <td>NaN</td>\n",
              "      <td>NaN</td>\n",
              "      <td>Excellence Technology</td>\n",
              "      <td>NaN</td>\n",
              "      <td>NaN</td>\n",
              "      <td>NaN</td>\n",
              "      <td>NaN</td>\n",
              "      <td>580</td>\n",
              "      <td>840</td>\n",
              "      <td>675</td>\n",
              "      <td>540</td>\n",
              "      <td>735</td>\n",
              "      <td>562</td>\n",
              "      <td>95</td>\n",
              "      <td>22</td>\n",
              "      <td>ZS Associates India Pvt. Ltd</td>\n",
              "      <td>6.53</td>\n",
              "      <td>6.53</td>\n",
              "      <td>On Campus</td>\n",
              "    </tr>\n",
              "    <tr>\n",
              "      <th>1</th>\n",
              "      <td>1</td>\n",
              "      <td>Yes</td>\n",
              "      <td>B.E - CSE</td>\n",
              "      <td>University Institute of Engineering (UIE)</td>\n",
              "      <td>81.70</td>\n",
              "      <td>2014</td>\n",
              "      <td>CBSE</td>\n",
              "      <td>81.80</td>\n",
              "      <td>81.80</td>\n",
              "      <td>Non - Medical</td>\n",
              "      <td>2016.0</td>\n",
              "      <td>CBSE</td>\n",
              "      <td>NaN</td>\n",
              "      <td>NaN</td>\n",
              "      <td>NaN</td>\n",
              "      <td>NaN</td>\n",
              "      <td>NaN</td>\n",
              "      <td>7.80</td>\n",
              "      <td>0</td>\n",
              "      <td>2020</td>\n",
              "      <td>B.E</td>\n",
              "      <td>B.E - CSE</td>\n",
              "      <td>Chandigarh University</td>\n",
              "      <td>Chandigarh University</td>\n",
              "      <td>NaN</td>\n",
              "      <td>NaN</td>\n",
              "      <td>Punjab</td>\n",
              "      <td>SC</td>\n",
              "      <td>Female</td>\n",
              "      <td>Na</td>\n",
              "      <td>NaN</td>\n",
              "      <td>NaN</td>\n",
              "      <td>NaN</td>\n",
              "      <td>NaN</td>\n",
              "      <td>Cdac , Mohali</td>\n",
              "      <td>Chandhigarh</td>\n",
              "      <td>Six Weeks</td>\n",
              "      <td>Fta Application</td>\n",
              "      <td>Android Studio/android</td>\n",
              "      <td>465</td>\n",
              "      <td>490</td>\n",
              "      <td>495</td>\n",
              "      <td>540</td>\n",
              "      <td>495</td>\n",
              "      <td>592</td>\n",
              "      <td>53</td>\n",
              "      <td>21</td>\n",
              "      <td>Nokia</td>\n",
              "      <td>3.00</td>\n",
              "      <td>3.00</td>\n",
              "      <td>On Campus</td>\n",
              "    </tr>\n",
              "    <tr>\n",
              "      <th>2</th>\n",
              "      <td>2</td>\n",
              "      <td>Yes</td>\n",
              "      <td>B.E - CSE</td>\n",
              "      <td>University Institute of Engineering (UIE)</td>\n",
              "      <td>95.00</td>\n",
              "      <td>2013</td>\n",
              "      <td>CBSE</td>\n",
              "      <td>76.20</td>\n",
              "      <td>76.20</td>\n",
              "      <td>Non - Medical</td>\n",
              "      <td>2015.0</td>\n",
              "      <td>CBSE</td>\n",
              "      <td>NaN</td>\n",
              "      <td>NaN</td>\n",
              "      <td>NaN</td>\n",
              "      <td>NaN</td>\n",
              "      <td>NaN</td>\n",
              "      <td>8.43</td>\n",
              "      <td>0</td>\n",
              "      <td>2020</td>\n",
              "      <td>B.E</td>\n",
              "      <td>B.E - CSE</td>\n",
              "      <td>Chandigarh University</td>\n",
              "      <td>Chandigarh University</td>\n",
              "      <td>NaN</td>\n",
              "      <td>NaN</td>\n",
              "      <td>Delhi(nct)</td>\n",
              "      <td>General</td>\n",
              "      <td>Male</td>\n",
              "      <td>Cloud Computing</td>\n",
              "      <td>NaN</td>\n",
              "      <td>NaN</td>\n",
              "      <td>NaN</td>\n",
              "      <td>NaN</td>\n",
              "      <td>Ibm-kvch</td>\n",
              "      <td>Noida</td>\n",
              "      <td>Six Weeks</td>\n",
              "      <td>Hosting A Chatting Website</td>\n",
              "      <td>Cloud Computing, Aws, Php</td>\n",
              "      <td>665</td>\n",
              "      <td>680</td>\n",
              "      <td>565</td>\n",
              "      <td>540</td>\n",
              "      <td>665</td>\n",
              "      <td>531</td>\n",
              "      <td>61</td>\n",
              "      <td>23</td>\n",
              "      <td>Verizon Data</td>\n",
              "      <td>5.52</td>\n",
              "      <td>5.52</td>\n",
              "      <td>On Campus</td>\n",
              "    </tr>\n",
              "    <tr>\n",
              "      <th>3</th>\n",
              "      <td>3</td>\n",
              "      <td>Yes</td>\n",
              "      <td>B.E - CSE</td>\n",
              "      <td>University Institute of Engineering (UIE)</td>\n",
              "      <td>87.40</td>\n",
              "      <td>2013</td>\n",
              "      <td>CBSE</td>\n",
              "      <td>86.40</td>\n",
              "      <td>86.40</td>\n",
              "      <td>Non - Medical</td>\n",
              "      <td>2015.0</td>\n",
              "      <td>CBSE</td>\n",
              "      <td>NaN</td>\n",
              "      <td>NaN</td>\n",
              "      <td>NaN</td>\n",
              "      <td>NaN</td>\n",
              "      <td>NaN</td>\n",
              "      <td>8.36</td>\n",
              "      <td>0</td>\n",
              "      <td>2020</td>\n",
              "      <td>B.E</td>\n",
              "      <td>B.E - CSE</td>\n",
              "      <td>Chandigarh University</td>\n",
              "      <td>Chandigarh University</td>\n",
              "      <td>NaN</td>\n",
              "      <td>NaN</td>\n",
              "      <td>Uttar Pradesh</td>\n",
              "      <td>General</td>\n",
              "      <td>Male</td>\n",
              "      <td>NaN</td>\n",
              "      <td>NaN</td>\n",
              "      <td>NaN</td>\n",
              "      <td>NaN</td>\n",
              "      <td>NaN</td>\n",
              "      <td>C-dac</td>\n",
              "      <td>Mohali</td>\n",
              "      <td>Six Weeks</td>\n",
              "      <td>Hotel Predictions</td>\n",
              "      <td>Bigdata</td>\n",
              "      <td>560</td>\n",
              "      <td>650</td>\n",
              "      <td>555</td>\n",
              "      <td>540</td>\n",
              "      <td>545</td>\n",
              "      <td>469</td>\n",
              "      <td>50</td>\n",
              "      <td>23</td>\n",
              "      <td>ZS Associates India Pvt. Ltd</td>\n",
              "      <td>6.53</td>\n",
              "      <td>6.53</td>\n",
              "      <td>On Campus</td>\n",
              "    </tr>\n",
              "    <tr>\n",
              "      <th>4</th>\n",
              "      <td>4</td>\n",
              "      <td>Yes</td>\n",
              "      <td>B.E - CSE</td>\n",
              "      <td>University Institute of Engineering (UIE)</td>\n",
              "      <td>89.40</td>\n",
              "      <td>2013</td>\n",
              "      <td>Himachal Pradesh Board</td>\n",
              "      <td>80.60</td>\n",
              "      <td>80.60</td>\n",
              "      <td>Non - Medical</td>\n",
              "      <td>2015.0</td>\n",
              "      <td>Himachal Pradesh Board</td>\n",
              "      <td>NaN</td>\n",
              "      <td>NaN</td>\n",
              "      <td>NaN</td>\n",
              "      <td>NaN</td>\n",
              "      <td>NaN</td>\n",
              "      <td>8.05</td>\n",
              "      <td>0</td>\n",
              "      <td>2020</td>\n",
              "      <td>B.E</td>\n",
              "      <td>B.E - CSE</td>\n",
              "      <td>Chandigarh University</td>\n",
              "      <td>Chandigarh University</td>\n",
              "      <td>NaN</td>\n",
              "      <td>NaN</td>\n",
              "      <td>Himachal Pradesh</td>\n",
              "      <td>General</td>\n",
              "      <td>Male</td>\n",
              "      <td>NaN</td>\n",
              "      <td>NaN</td>\n",
              "      <td>NaN</td>\n",
              "      <td>NaN</td>\n",
              "      <td>NaN</td>\n",
              "      <td>A2it Mohali</td>\n",
              "      <td>Mohali</td>\n",
              "      <td>Six Weeks</td>\n",
              "      <td>Fitness Buddy</td>\n",
              "      <td>Android Studio With Sql</td>\n",
              "      <td>605</td>\n",
              "      <td>650</td>\n",
              "      <td>545</td>\n",
              "      <td>180</td>\n",
              "      <td>515</td>\n",
              "      <td>531</td>\n",
              "      <td>19</td>\n",
              "      <td>22</td>\n",
              "      <td>Capgemini</td>\n",
              "      <td>3.80</td>\n",
              "      <td>3.80</td>\n",
              "      <td>On Campus</td>\n",
              "    </tr>\n",
              "    <tr>\n",
              "      <th>...</th>\n",
              "      <td>...</td>\n",
              "      <td>...</td>\n",
              "      <td>...</td>\n",
              "      <td>...</td>\n",
              "      <td>...</td>\n",
              "      <td>...</td>\n",
              "      <td>...</td>\n",
              "      <td>...</td>\n",
              "      <td>...</td>\n",
              "      <td>...</td>\n",
              "      <td>...</td>\n",
              "      <td>...</td>\n",
              "      <td>...</td>\n",
              "      <td>...</td>\n",
              "      <td>...</td>\n",
              "      <td>...</td>\n",
              "      <td>...</td>\n",
              "      <td>...</td>\n",
              "      <td>...</td>\n",
              "      <td>...</td>\n",
              "      <td>...</td>\n",
              "      <td>...</td>\n",
              "      <td>...</td>\n",
              "      <td>...</td>\n",
              "      <td>...</td>\n",
              "      <td>...</td>\n",
              "      <td>...</td>\n",
              "      <td>...</td>\n",
              "      <td>...</td>\n",
              "      <td>...</td>\n",
              "      <td>...</td>\n",
              "      <td>...</td>\n",
              "      <td>...</td>\n",
              "      <td>...</td>\n",
              "      <td>...</td>\n",
              "      <td>...</td>\n",
              "      <td>...</td>\n",
              "      <td>...</td>\n",
              "      <td>...</td>\n",
              "      <td>...</td>\n",
              "      <td>...</td>\n",
              "      <td>...</td>\n",
              "      <td>...</td>\n",
              "      <td>...</td>\n",
              "      <td>...</td>\n",
              "      <td>...</td>\n",
              "      <td>...</td>\n",
              "      <td>...</td>\n",
              "      <td>...</td>\n",
              "      <td>...</td>\n",
              "      <td>...</td>\n",
              "    </tr>\n",
              "    <tr>\n",
              "      <th>1026</th>\n",
              "      <td>1026</td>\n",
              "      <td>Yes</td>\n",
              "      <td>B.E - IT</td>\n",
              "      <td>University Institute of Engineering (UIE)</td>\n",
              "      <td>85.80</td>\n",
              "      <td>2013</td>\n",
              "      <td>CBSE</td>\n",
              "      <td>72.60</td>\n",
              "      <td>72.60</td>\n",
              "      <td>Non - Medical</td>\n",
              "      <td>2015.0</td>\n",
              "      <td>Jharkhand board</td>\n",
              "      <td>NaN</td>\n",
              "      <td>NaN</td>\n",
              "      <td>NaN</td>\n",
              "      <td>NaN</td>\n",
              "      <td>NaN</td>\n",
              "      <td>7.71</td>\n",
              "      <td>0</td>\n",
              "      <td>2020</td>\n",
              "      <td>B.E</td>\n",
              "      <td>B.E - IT</td>\n",
              "      <td>Chandigarh University</td>\n",
              "      <td>Chandigarh University</td>\n",
              "      <td>NaN</td>\n",
              "      <td>NaN</td>\n",
              "      <td>Jharkhand</td>\n",
              "      <td>General</td>\n",
              "      <td>Male</td>\n",
              "      <td>NaN</td>\n",
              "      <td>NaN</td>\n",
              "      <td>NaN</td>\n",
              "      <td>NaN</td>\n",
              "      <td>NaN</td>\n",
              "      <td>Eme Technologies</td>\n",
              "      <td>Chandigarh</td>\n",
              "      <td>Six Weeks</td>\n",
              "      <td>Yelpcamp</td>\n",
              "      <td>Node.js And Mongodb</td>\n",
              "      <td>560</td>\n",
              "      <td>445</td>\n",
              "      <td>495</td>\n",
              "      <td>360</td>\n",
              "      <td>525</td>\n",
              "      <td>438</td>\n",
              "      <td>16</td>\n",
              "      <td>23</td>\n",
              "      <td>MothersonSumiÿINfotechÿ&amp;ÿDesignsÿLimited</td>\n",
              "      <td>3.50</td>\n",
              "      <td>3.50</td>\n",
              "      <td>On Campus</td>\n",
              "    </tr>\n",
              "    <tr>\n",
              "      <th>1027</th>\n",
              "      <td>1027</td>\n",
              "      <td>Yes</td>\n",
              "      <td>B.E - IT</td>\n",
              "      <td>University Institute of Engineering (UIE)</td>\n",
              "      <td>86.12</td>\n",
              "      <td>2014</td>\n",
              "      <td>Punjab School Education Board</td>\n",
              "      <td>88.12</td>\n",
              "      <td>88.12</td>\n",
              "      <td>Non - Medical</td>\n",
              "      <td>2016.0</td>\n",
              "      <td>Punjab School Education Board</td>\n",
              "      <td>NaN</td>\n",
              "      <td>NaN</td>\n",
              "      <td>NaN</td>\n",
              "      <td>NaN</td>\n",
              "      <td>NaN</td>\n",
              "      <td>7.45</td>\n",
              "      <td>0</td>\n",
              "      <td>2020</td>\n",
              "      <td>B.E</td>\n",
              "      <td>B.E - IT</td>\n",
              "      <td>Chandigarh University</td>\n",
              "      <td>Chandigarh University</td>\n",
              "      <td>NaN</td>\n",
              "      <td>NaN</td>\n",
              "      <td>Punjab</td>\n",
              "      <td>SC</td>\n",
              "      <td>Female</td>\n",
              "      <td>NaN</td>\n",
              "      <td>NaN</td>\n",
              "      <td>NaN</td>\n",
              "      <td>NaN</td>\n",
              "      <td>NaN</td>\n",
              "      <td>Chandigarh University</td>\n",
              "      <td>Gharuan</td>\n",
              "      <td>Six Weeks</td>\n",
              "      <td>Health And Weight Check Systsm</td>\n",
              "      <td>Ecilpse,tomcat ,sql</td>\n",
              "      <td>370</td>\n",
              "      <td>550</td>\n",
              "      <td>425</td>\n",
              "      <td>360</td>\n",
              "      <td>415</td>\n",
              "      <td>315</td>\n",
              "      <td>0</td>\n",
              "      <td>22</td>\n",
              "      <td>EnercrossÿLLP</td>\n",
              "      <td>3.00</td>\n",
              "      <td>3.00</td>\n",
              "      <td>On Campus</td>\n",
              "    </tr>\n",
              "    <tr>\n",
              "      <th>1028</th>\n",
              "      <td>1028</td>\n",
              "      <td>Yes</td>\n",
              "      <td>B.E - IT</td>\n",
              "      <td>University Institute of Engineering (UIE)</td>\n",
              "      <td>73.60</td>\n",
              "      <td>2013</td>\n",
              "      <td>ICSE</td>\n",
              "      <td>71.00</td>\n",
              "      <td>71.00</td>\n",
              "      <td>Non - Medical</td>\n",
              "      <td>2015.0</td>\n",
              "      <td>ICSE</td>\n",
              "      <td>NaN</td>\n",
              "      <td>NaN</td>\n",
              "      <td>NaN</td>\n",
              "      <td>NaN</td>\n",
              "      <td>NaN</td>\n",
              "      <td>8.08</td>\n",
              "      <td>0</td>\n",
              "      <td>2020</td>\n",
              "      <td>B.E</td>\n",
              "      <td>B.E - IT</td>\n",
              "      <td>Chandigarh University</td>\n",
              "      <td>Chandigarh University</td>\n",
              "      <td>NaN</td>\n",
              "      <td>NaN</td>\n",
              "      <td>Uttar Pradesh</td>\n",
              "      <td>General</td>\n",
              "      <td>Male</td>\n",
              "      <td>NaN</td>\n",
              "      <td>NaN</td>\n",
              "      <td>NaN</td>\n",
              "      <td>NaN</td>\n",
              "      <td>NaN</td>\n",
              "      <td>Nit Allahabad</td>\n",
              "      <td>NaN</td>\n",
              "      <td>Six Weeks</td>\n",
              "      <td>NaN</td>\n",
              "      <td>NaN</td>\n",
              "      <td>455</td>\n",
              "      <td>680</td>\n",
              "      <td>530</td>\n",
              "      <td>540</td>\n",
              "      <td>415</td>\n",
              "      <td>438</td>\n",
              "      <td>38</td>\n",
              "      <td>24</td>\n",
              "      <td>BrillioÿTechnologiesÿPvtÿLtd</td>\n",
              "      <td>4.50</td>\n",
              "      <td>4.50</td>\n",
              "      <td>On Campus</td>\n",
              "    </tr>\n",
              "    <tr>\n",
              "      <th>1029</th>\n",
              "      <td>1029</td>\n",
              "      <td>Yes</td>\n",
              "      <td>B.E - IT</td>\n",
              "      <td>University Institute of Engineering (UIE)</td>\n",
              "      <td>83.54</td>\n",
              "      <td>2014</td>\n",
              "      <td>Punjab School Education Board</td>\n",
              "      <td>80.44</td>\n",
              "      <td>80.44</td>\n",
              "      <td>Non - Medical</td>\n",
              "      <td>2016.0</td>\n",
              "      <td>Punjab School Education Board</td>\n",
              "      <td>NaN</td>\n",
              "      <td>NaN</td>\n",
              "      <td>NaN</td>\n",
              "      <td>NaN</td>\n",
              "      <td>NaN</td>\n",
              "      <td>7.26</td>\n",
              "      <td>0</td>\n",
              "      <td>2020</td>\n",
              "      <td>B.E</td>\n",
              "      <td>B.E - IT</td>\n",
              "      <td>Chandigarh University</td>\n",
              "      <td>Chandigarh University</td>\n",
              "      <td>NaN</td>\n",
              "      <td>NaN</td>\n",
              "      <td>Punjab</td>\n",
              "      <td>BC</td>\n",
              "      <td>Male</td>\n",
              "      <td>NaN</td>\n",
              "      <td>NaN</td>\n",
              "      <td>NaN</td>\n",
              "      <td>NaN</td>\n",
              "      <td>NaN</td>\n",
              "      <td>Amstechhub</td>\n",
              "      <td>NaN</td>\n",
              "      <td>NaN</td>\n",
              "      <td>NaN</td>\n",
              "      <td>NaN</td>\n",
              "      <td>560</td>\n",
              "      <td>740</td>\n",
              "      <td>655</td>\n",
              "      <td>360</td>\n",
              "      <td>515</td>\n",
              "      <td>500</td>\n",
              "      <td>0</td>\n",
              "      <td>23</td>\n",
              "      <td>Capgemini</td>\n",
              "      <td>3.80</td>\n",
              "      <td>3.80</td>\n",
              "      <td>On Campus</td>\n",
              "    </tr>\n",
              "    <tr>\n",
              "      <th>1030</th>\n",
              "      <td>1030</td>\n",
              "      <td>Yes</td>\n",
              "      <td>B.E - IT</td>\n",
              "      <td>University Institute of Engineering (UIE)</td>\n",
              "      <td>90.50</td>\n",
              "      <td>2013</td>\n",
              "      <td>CBSE</td>\n",
              "      <td>78.80</td>\n",
              "      <td>78.80</td>\n",
              "      <td>Non - Medical</td>\n",
              "      <td>2015.0</td>\n",
              "      <td>CBSE</td>\n",
              "      <td>NaN</td>\n",
              "      <td>NaN</td>\n",
              "      <td>NaN</td>\n",
              "      <td>NaN</td>\n",
              "      <td>NaN</td>\n",
              "      <td>7.47</td>\n",
              "      <td>0</td>\n",
              "      <td>2020</td>\n",
              "      <td>B.E</td>\n",
              "      <td>B.E - IT</td>\n",
              "      <td>Chandigarh University</td>\n",
              "      <td>Chandigarh University</td>\n",
              "      <td>NaN</td>\n",
              "      <td>NaN</td>\n",
              "      <td>Rajasthan</td>\n",
              "      <td>General</td>\n",
              "      <td>Male</td>\n",
              "      <td>NaN</td>\n",
              "      <td>NaN</td>\n",
              "      <td>NaN</td>\n",
              "      <td>NaN</td>\n",
              "      <td>NaN</td>\n",
              "      <td>Amstechhub</td>\n",
              "      <td>Mohali</td>\n",
              "      <td>Six Weeks</td>\n",
              "      <td>Routing Protocols</td>\n",
              "      <td>Networking</td>\n",
              "      <td>630</td>\n",
              "      <td>710</td>\n",
              "      <td>640</td>\n",
              "      <td>540</td>\n",
              "      <td>615</td>\n",
              "      <td>531</td>\n",
              "      <td>5</td>\n",
              "      <td>23</td>\n",
              "      <td>Capgemini</td>\n",
              "      <td>3.80</td>\n",
              "      <td>3.80</td>\n",
              "      <td>On Campus</td>\n",
              "    </tr>\n",
              "  </tbody>\n",
              "</table>\n",
              "<p>1031 rows × 51 columns</p>\n",
              "</div>"
            ],
            "text/plain": [
              "      Unnamed: 0  ...     Status\n",
              "0              0  ...  On Campus\n",
              "1              1  ...  On Campus\n",
              "2              2  ...  On Campus\n",
              "3              3  ...  On Campus\n",
              "4              4  ...  On Campus\n",
              "...          ...  ...        ...\n",
              "1026        1026  ...  On Campus\n",
              "1027        1027  ...  On Campus\n",
              "1028        1028  ...  On Campus\n",
              "1029        1029  ...  On Campus\n",
              "1030        1030  ...  On Campus\n",
              "\n",
              "[1031 rows x 51 columns]"
            ]
          },
          "metadata": {
            "tags": []
          },
          "execution_count": 87
        }
      ]
    },
    {
      "cell_type": "code",
      "metadata": {
        "id": "oc4AtKnEj0TR"
      },
      "source": [
        "my = place[['Matric Percentage (Xth)','Best of XII or Diploma','CGPA Till 6th Sem -20-July-2019','Catagory','Gender','BEST of E','BEST of Q','BEST of L','BEST of Write-X','BEST of CP','BEST of Domain','BEST of Automata','Package To (in LPA)']]"
      ],
      "execution_count": 88,
      "outputs": []
    },
    {
      "cell_type": "code",
      "metadata": {
        "id": "iAU5VJVCrDL8",
        "outputId": "7e18f23a-3703-440a-8637-a82319b53a49",
        "colab": {
          "base_uri": "https://localhost:8080/",
          "height": 202
        }
      },
      "source": [
        "my.head()"
      ],
      "execution_count": 89,
      "outputs": [
        {
          "output_type": "execute_result",
          "data": {
            "text/html": [
              "<div>\n",
              "<style scoped>\n",
              "    .dataframe tbody tr th:only-of-type {\n",
              "        vertical-align: middle;\n",
              "    }\n",
              "\n",
              "    .dataframe tbody tr th {\n",
              "        vertical-align: top;\n",
              "    }\n",
              "\n",
              "    .dataframe thead th {\n",
              "        text-align: right;\n",
              "    }\n",
              "</style>\n",
              "<table border=\"1\" class=\"dataframe\">\n",
              "  <thead>\n",
              "    <tr style=\"text-align: right;\">\n",
              "      <th></th>\n",
              "      <th>Matric Percentage (Xth)</th>\n",
              "      <th>Best of XII or Diploma</th>\n",
              "      <th>CGPA Till 6th Sem -20-July-2019</th>\n",
              "      <th>Catagory</th>\n",
              "      <th>Gender</th>\n",
              "      <th>BEST of E</th>\n",
              "      <th>BEST of Q</th>\n",
              "      <th>BEST of L</th>\n",
              "      <th>BEST of Write-X</th>\n",
              "      <th>BEST of CP</th>\n",
              "      <th>BEST of Domain</th>\n",
              "      <th>BEST of Automata</th>\n",
              "      <th>Package To (in LPA)</th>\n",
              "    </tr>\n",
              "  </thead>\n",
              "  <tbody>\n",
              "    <tr>\n",
              "      <th>0</th>\n",
              "      <td>84.0</td>\n",
              "      <td>84.2</td>\n",
              "      <td>7.96</td>\n",
              "      <td>General</td>\n",
              "      <td>Male</td>\n",
              "      <td>580</td>\n",
              "      <td>840</td>\n",
              "      <td>675</td>\n",
              "      <td>540</td>\n",
              "      <td>735</td>\n",
              "      <td>562</td>\n",
              "      <td>95</td>\n",
              "      <td>6.53</td>\n",
              "    </tr>\n",
              "    <tr>\n",
              "      <th>1</th>\n",
              "      <td>81.7</td>\n",
              "      <td>81.8</td>\n",
              "      <td>7.80</td>\n",
              "      <td>SC</td>\n",
              "      <td>Female</td>\n",
              "      <td>465</td>\n",
              "      <td>490</td>\n",
              "      <td>495</td>\n",
              "      <td>540</td>\n",
              "      <td>495</td>\n",
              "      <td>592</td>\n",
              "      <td>53</td>\n",
              "      <td>3.00</td>\n",
              "    </tr>\n",
              "    <tr>\n",
              "      <th>2</th>\n",
              "      <td>95.0</td>\n",
              "      <td>76.2</td>\n",
              "      <td>8.43</td>\n",
              "      <td>General</td>\n",
              "      <td>Male</td>\n",
              "      <td>665</td>\n",
              "      <td>680</td>\n",
              "      <td>565</td>\n",
              "      <td>540</td>\n",
              "      <td>665</td>\n",
              "      <td>531</td>\n",
              "      <td>61</td>\n",
              "      <td>5.52</td>\n",
              "    </tr>\n",
              "    <tr>\n",
              "      <th>3</th>\n",
              "      <td>87.4</td>\n",
              "      <td>86.4</td>\n",
              "      <td>8.36</td>\n",
              "      <td>General</td>\n",
              "      <td>Male</td>\n",
              "      <td>560</td>\n",
              "      <td>650</td>\n",
              "      <td>555</td>\n",
              "      <td>540</td>\n",
              "      <td>545</td>\n",
              "      <td>469</td>\n",
              "      <td>50</td>\n",
              "      <td>6.53</td>\n",
              "    </tr>\n",
              "    <tr>\n",
              "      <th>4</th>\n",
              "      <td>89.4</td>\n",
              "      <td>80.6</td>\n",
              "      <td>8.05</td>\n",
              "      <td>General</td>\n",
              "      <td>Male</td>\n",
              "      <td>605</td>\n",
              "      <td>650</td>\n",
              "      <td>545</td>\n",
              "      <td>180</td>\n",
              "      <td>515</td>\n",
              "      <td>531</td>\n",
              "      <td>19</td>\n",
              "      <td>3.80</td>\n",
              "    </tr>\n",
              "  </tbody>\n",
              "</table>\n",
              "</div>"
            ],
            "text/plain": [
              "   Matric Percentage (Xth)  ...  Package To (in LPA)\n",
              "0                     84.0  ...                 6.53\n",
              "1                     81.7  ...                 3.00\n",
              "2                     95.0  ...                 5.52\n",
              "3                     87.4  ...                 6.53\n",
              "4                     89.4  ...                 3.80\n",
              "\n",
              "[5 rows x 13 columns]"
            ]
          },
          "metadata": {
            "tags": []
          },
          "execution_count": 89
        }
      ]
    },
    {
      "cell_type": "code",
      "metadata": {
        "id": "-uxVqJrnrdm6",
        "outputId": "fed9bd31-08b9-4f3e-8141-deeab95b6f04",
        "colab": {
          "base_uri": "https://localhost:8080/"
        }
      },
      "source": [
        "def Xth(n):\n",
        "    if n < 50:\n",
        "        return '<50'\n",
        "    elif n >=50 and n < 60:\n",
        "        return '50-60'\n",
        "    elif n >= 60 and n < 70:\n",
        "        return '60-70'\n",
        "    elif n >= 70 and n < 80:\n",
        "        return '70-80'\n",
        "    elif n >= 80 and n < 90:\n",
        "        return '80-90'\n",
        "    else:\n",
        "        return '90-100'\n",
        "my['Xth'] = my['Matric Percentage (Xth)'].apply(lambda x: Xth(x))"
      ],
      "execution_count": 90,
      "outputs": [
        {
          "output_type": "stream",
          "text": [
            "/usr/local/lib/python3.6/dist-packages/ipykernel_launcher.py:14: SettingWithCopyWarning: \n",
            "A value is trying to be set on a copy of a slice from a DataFrame.\n",
            "Try using .loc[row_indexer,col_indexer] = value instead\n",
            "\n",
            "See the caveats in the documentation: https://pandas.pydata.org/pandas-docs/stable/user_guide/indexing.html#returning-a-view-versus-a-copy\n",
            "  \n"
          ],
          "name": "stderr"
        }
      ]
    },
    {
      "cell_type": "code",
      "metadata": {
        "id": "lVkJLLUQvvSb",
        "outputId": "07e7c116-9104-492a-8722-d900dcb942ca",
        "colab": {
          "base_uri": "https://localhost:8080/"
        }
      },
      "source": [
        "def LPA(n):\n",
        "    if n < 3:\n",
        "        return '<3'\n",
        "    elif n >=3 and n < 4:\n",
        "        return '3-4'\n",
        "    elif n >=4 and n < 5:\n",
        "        return '4-5'\n",
        "    elif n >=5 and n < 6:\n",
        "        return '5-6'\n",
        "    else:\n",
        "        return '>10'\n",
        "my['LPA'] = my['Package To (in LPA)'].apply(lambda x: LPA(x))"
      ],
      "execution_count": 91,
      "outputs": [
        {
          "output_type": "stream",
          "text": [
            "/usr/local/lib/python3.6/dist-packages/ipykernel_launcher.py:12: SettingWithCopyWarning: \n",
            "A value is trying to be set on a copy of a slice from a DataFrame.\n",
            "Try using .loc[row_indexer,col_indexer] = value instead\n",
            "\n",
            "See the caveats in the documentation: https://pandas.pydata.org/pandas-docs/stable/user_guide/indexing.html#returning-a-view-versus-a-copy\n",
            "  if sys.path[0] == '':\n"
          ],
          "name": "stderr"
        }
      ]
    },
    {
      "cell_type": "code",
      "metadata": {
        "id": "qnQVPJ3vuKkQ",
        "outputId": "3ee47026-659e-4eb3-b3c9-35edb5ba6a9e",
        "colab": {
          "base_uri": "https://localhost:8080/",
          "height": 606
        }
      },
      "source": [
        "splot=sns.countplot(x='Xth',hue='LPA',data=my)\n",
        "plt.gcf().set_size_inches((10, 10))\n",
        "for p in splot.patches:\n",
        "  splot.annotate(format(p.get_height(),'.0f'), (p.get_x() + p.get_width() / 2, p.get_height()), ha = 'center', va = 'center', xytext = (0, 10), textcoords = 'offset points')"
      ],
      "execution_count": 92,
      "outputs": [
        {
          "output_type": "display_data",
          "data": {
            "image/png": "[encoded data removed]",
            "text/plain": [
              "<Figure size 720x720 with 1 Axes>"
            ]
          },
          "metadata": {
            "tags": [],
            "needs_background": "light"
          }
        }
      ]
    },
    {
      "cell_type": "code",
      "metadata": {
        "id": "kritQvU4udJa",
        "outputId": "0e6d61ac-b4f6-4d59-e150-2d85f1bf35ee",
        "colab": {
          "base_uri": "https://localhost:8080/",
          "height": 710
        }
      },
      "source": [
        "my['XIIth'] = my['Best of XII or Diploma'].apply(lambda x: Xth(x))\n",
        "splot=sns.countplot(x='XIIth',hue='LPA',data=my)\n",
        "plt.gcf().set_size_inches((10, 10))\n",
        "for p in splot.patches:\n",
        "  splot.annotate(format(p.get_height(),'.0f'), (p.get_x() + p.get_width() / 2, p.get_height()), ha = 'center', va = 'center', xytext = (0, 10), textcoords = 'offset points')"
      ],
      "execution_count": 93,
      "outputs": [
        {
          "output_type": "stream",
          "text": [
            "/usr/local/lib/python3.6/dist-packages/ipykernel_launcher.py:1: SettingWithCopyWarning: \n",
            "A value is trying to be set on a copy of a slice from a DataFrame.\n",
            "Try using .loc[row_indexer,col_indexer] = value instead\n",
            "\n",
            "See the caveats in the documentation: https://pandas.pydata.org/pandas-docs/stable/user_guide/indexing.html#returning-a-view-versus-a-copy\n",
            "  \"\"\"Entry point for launching an IPython kernel.\n"
          ],
          "name": "stderr"
        },
        {
          "output_type": "display_data",
          "data": {
            "image/png": "[encoded data removed]",
            "text/plain": [
              "<Figure size 720x720 with 1 Axes>"
            ]
          },
          "metadata": {
            "tags": [],
            "needs_background": "light"
          }
        }
      ]
    },
    {
      "cell_type": "code",
      "metadata": {
        "id": "QMyvW2dT1-VQ",
        "outputId": "f0cad0c8-383c-4c88-9c49-dc3fafd01b2d",
        "colab": {
          "base_uri": "https://localhost:8080/"
        }
      },
      "source": [
        "def CGPA(n):\n",
        "    if n < 6:\n",
        "        return '<6'\n",
        "    elif n >=6 and n < 7:\n",
        "        return '6-7'\n",
        "    elif n >= 7 and n < 7.5:\n",
        "        return '7-7.5'\n",
        "    elif n >= 7.5 and n < 8:\n",
        "        return '7.5-8'\n",
        "    else:\n",
        "        return '>8'\n",
        "my['CGPA'] = my['CGPA Till 6th Sem -20-July-2019'].apply(lambda x: CGPA(x))"
      ],
      "execution_count": 94,
      "outputs": [
        {
          "output_type": "stream",
          "text": [
            "/usr/local/lib/python3.6/dist-packages/ipykernel_launcher.py:12: SettingWithCopyWarning: \n",
            "A value is trying to be set on a copy of a slice from a DataFrame.\n",
            "Try using .loc[row_indexer,col_indexer] = value instead\n",
            "\n",
            "See the caveats in the documentation: https://pandas.pydata.org/pandas-docs/stable/user_guide/indexing.html#returning-a-view-versus-a-copy\n",
            "  if sys.path[0] == '':\n"
          ],
          "name": "stderr"
        }
      ]
    },
    {
      "cell_type": "code",
      "metadata": {
        "id": "5z4urGJC3wJF",
        "outputId": "4314dc30-a70c-4ebf-b82b-98a6b8e9d060",
        "colab": {
          "base_uri": "https://localhost:8080/",
          "height": 606
        }
      },
      "source": [
        "splot=sns.countplot(x='CGPA',hue='LPA',data=my)\n",
        "plt.gcf().set_size_inches((10, 10))\n",
        "for p in splot.patches:\n",
        "  splot.annotate(format(p.get_height(),'.0f'), (p.get_x() + p.get_width() / 2, p.get_height()), ha = 'center', va = 'center', xytext = (0, 10), textcoords = 'offset points')"
      ],
      "execution_count": 95,
      "outputs": [
        {
          "output_type": "display_data",
          "data": {
            "image/png": "[encoded data removed]",
            "text/plain": [
              "<Figure size 720x720 with 1 Axes>"
            ]
          },
          "metadata": {
            "tags": [],
            "needs_background": "light"
          }
        }
      ]
    },
    {
      "cell_type": "code",
      "metadata": {
        "id": "DNaS7qId31-b",
        "outputId": "12e99d6b-f2f2-4bbb-994d-aa3fd84e270f",
        "colab": {
          "base_uri": "https://localhost:8080/",
          "height": 606
        }
      },
      "source": [
        "splot=sns.countplot(x='Catagory',hue='LPA',data=my)\n",
        "plt.gcf().set_size_inches((10, 10))\n",
        "for p in splot.patches:\n",
        "  splot.annotate(format(p.get_height(),'.0f'), (p.get_x() + p.get_width() / 2, p.get_height()), ha = 'center', va = 'center', xytext = (0, 10), textcoords = 'offset points')"
      ],
      "execution_count": 96,
      "outputs": [
        {
          "output_type": "display_data",
          "data": {
            "image/png": "[encoded data removed]",
            "text/plain": [
              "<Figure size 720x720 with 1 Axes>"
            ]
          },
          "metadata": {
            "tags": [],
            "needs_background": "light"
          }
        }
      ]
    },
    {
      "cell_type": "code",
      "metadata": {
        "id": "4zkg8QGA4PNr",
        "outputId": "91b2aca7-205a-45a3-b15a-bce05f1ad36b",
        "colab": {
          "base_uri": "https://localhost:8080/",
          "height": 606
        }
      },
      "source": [
        "splot=sns.countplot(x='Gender',hue='LPA',data=my)\n",
        "plt.gcf().set_size_inches((10, 10))\n",
        "for p in splot.patches:\n",
        "  splot.annotate(format(p.get_height(),'.0f'), (p.get_x() + p.get_width() / 2, p.get_height()), ha = 'center', va = 'center', xytext = (0, 10), textcoords = 'offset points')"
      ],
      "execution_count": 97,
      "outputs": [
        {
          "output_type": "display_data",
          "data": {
            "image/png": "[encoded data removed]",
            "text/plain": [
              "<Figure size 720x720 with 1 Axes>"
            ]
          },
          "metadata": {
            "tags": [],
            "needs_background": "light"
          }
        }
      ]
    },
    {
      "cell_type": "code",
      "metadata": {
        "id": "z50dLlv54wvc",
        "outputId": "86d0dd6e-3c61-4863-fb0e-65defc76d672",
        "colab": {
          "base_uri": "https://localhost:8080/"
        }
      },
      "source": [
        "def marks(n):\n",
        "    if n < 500:\n",
        "        return '<500'\n",
        "    elif n >=500 and n < 600:\n",
        "        return '500-600'\n",
        "    elif n >= 600 and n < 700:\n",
        "        return '600-700'\n",
        "    elif n >= 700 and n < 800:\n",
        "        return '700-800'\n",
        "    else:\n",
        "        return '800-900'\n",
        "my['E'] = my['BEST of E'].apply(lambda x: marks(x))"
      ],
      "execution_count": 98,
      "outputs": [
        {
          "output_type": "stream",
          "text": [
            "/usr/local/lib/python3.6/dist-packages/ipykernel_launcher.py:12: SettingWithCopyWarning: \n",
            "A value is trying to be set on a copy of a slice from a DataFrame.\n",
            "Try using .loc[row_indexer,col_indexer] = value instead\n",
            "\n",
            "See the caveats in the documentation: https://pandas.pydata.org/pandas-docs/stable/user_guide/indexing.html#returning-a-view-versus-a-copy\n",
            "  if sys.path[0] == '':\n"
          ],
          "name": "stderr"
        }
      ]
    },
    {
      "cell_type": "code",
      "metadata": {
        "id": "oPyJKDiE7IWQ",
        "outputId": "f93c2113-ed48-4fa9-e281-6d5ba7263ac9",
        "colab": {
          "base_uri": "https://localhost:8080/",
          "height": 606
        }
      },
      "source": [
        "splot=sns.countplot(x='E',hue='LPA',data=my)\n",
        "plt.gcf().set_size_inches((10, 10))\n",
        "for p in splot.patches:\n",
        "  splot.annotate(format(p.get_height(),'.0f'), (p.get_x() + p.get_width() / 2, p.get_height()), ha = 'center', va = 'center', xytext = (0, 10), textcoords = 'offset points')"
      ],
      "execution_count": 99,
      "outputs": [
        {
          "output_type": "display_data",
          "data": {
            "image/png": "[encoded data removed]",
            "text/plain": [
              "<Figure size 720x720 with 1 Axes>"
            ]
          },
          "metadata": {
            "tags": [],
            "needs_background": "light"
          }
        }
      ]
    },
    {
      "cell_type": "code",
      "metadata": {
        "id": "umec-3ou7S3t",
        "outputId": "bf376971-1729-492e-f341-cf63ce0bcc58",
        "colab": {
          "base_uri": "https://localhost:8080/",
          "height": 710
        }
      },
      "source": [
        "my['Q'] = my['BEST of Q'].apply(lambda x: marks(x))\n",
        "splot=sns.countplot(x='Q',hue='LPA',data=my)\n",
        "plt.gcf().set_size_inches((10, 10))\n",
        "for p in splot.patches:\n",
        "  splot.annotate(format(p.get_height(),'.0f'), (p.get_x() + p.get_width() / 2, p.get_height()), ha = 'center', va = 'center', xytext = (0, 10), textcoords = 'offset points')"
      ],
      "execution_count": 100,
      "outputs": [
        {
          "output_type": "stream",
          "text": [
            "/usr/local/lib/python3.6/dist-packages/ipykernel_launcher.py:1: SettingWithCopyWarning: \n",
            "A value is trying to be set on a copy of a slice from a DataFrame.\n",
            "Try using .loc[row_indexer,col_indexer] = value instead\n",
            "\n",
            "See the caveats in the documentation: https://pandas.pydata.org/pandas-docs/stable/user_guide/indexing.html#returning-a-view-versus-a-copy\n",
            "  \"\"\"Entry point for launching an IPython kernel.\n"
          ],
          "name": "stderr"
        },
        {
          "output_type": "display_data",
          "data": {
            "image/png": "[encoded data removed]",
            "text/plain": [
              "<Figure size 720x720 with 1 Axes>"
            ]
          },
          "metadata": {
            "tags": [],
            "needs_background": "light"
          }
        }
      ]
    },
    {
      "cell_type": "code",
      "metadata": {
        "id": "JX2AhTIP8rEt",
        "outputId": "35e6350b-7a23-4d3e-c4c8-e93572acc844",
        "colab": {
          "base_uri": "https://localhost:8080/",
          "height": 710
        }
      },
      "source": [
        "my['L'] = my['BEST of L'].apply(lambda x: marks(x))\n",
        "splot=sns.countplot(x='L',hue='LPA',data=my)\n",
        "plt.gcf().set_size_inches((10, 10))\n",
        "for p in splot.patches:\n",
        "  splot.annotate(format(p.get_height(),'.0f'), (p.get_x() + p.get_width() / 2, p.get_height()), ha = 'center', va = 'center', xytext = (0, 10), textcoords = 'offset points')"
      ],
      "execution_count": 101,
      "outputs": [
        {
          "output_type": "stream",
          "text": [
            "/usr/local/lib/python3.6/dist-packages/ipykernel_launcher.py:1: SettingWithCopyWarning: \n",
            "A value is trying to be set on a copy of a slice from a DataFrame.\n",
            "Try using .loc[row_indexer,col_indexer] = value instead\n",
            "\n",
            "See the caveats in the documentation: https://pandas.pydata.org/pandas-docs/stable/user_guide/indexing.html#returning-a-view-versus-a-copy\n",
            "  \"\"\"Entry point for launching an IPython kernel.\n"
          ],
          "name": "stderr"
        },
        {
          "output_type": "display_data",
          "data": {
            "image/png": "[encoded data removed]",
            "text/plain": [
              "<Figure size 720x720 with 1 Axes>"
            ]
          },
          "metadata": {
            "tags": [],
            "needs_background": "light"
          }
        }
      ]
    },
    {
      "cell_type": "code",
      "metadata": {
        "id": "zkdNBCaK87zU",
        "outputId": "47e17481-9522-42b7-9d57-f026ac68156f",
        "colab": {
          "base_uri": "https://localhost:8080/",
          "height": 710
        }
      },
      "source": [
        "my['X'] = my['BEST of Write-X'].apply(lambda x: marks(x))\n",
        "splot=sns.countplot(x='X',hue='LPA',data=my)\n",
        "plt.gcf().set_size_inches((10, 10))\n",
        "for p in splot.patches:\n",
        "  splot.annotate(format(p.get_height(),'.0f'), (p.get_x() + p.get_width() / 2, p.get_height()), ha = 'center', va = 'center', xytext = (0, 10), textcoords = 'offset points')"
      ],
      "execution_count": 102,
      "outputs": [
        {
          "output_type": "stream",
          "text": [
            "/usr/local/lib/python3.6/dist-packages/ipykernel_launcher.py:1: SettingWithCopyWarning: \n",
            "A value is trying to be set on a copy of a slice from a DataFrame.\n",
            "Try using .loc[row_indexer,col_indexer] = value instead\n",
            "\n",
            "See the caveats in the documentation: https://pandas.pydata.org/pandas-docs/stable/user_guide/indexing.html#returning-a-view-versus-a-copy\n",
            "  \"\"\"Entry point for launching an IPython kernel.\n"
          ],
          "name": "stderr"
        },
        {
          "output_type": "display_data",
          "data": {
            "image/png": "[encoded data removed]",
            "text/plain": [
              "<Figure size 720x720 with 1 Axes>"
            ]
          },
          "metadata": {
            "tags": [],
            "needs_background": "light"
          }
        }
      ]
    },
    {
      "cell_type": "code",
      "metadata": {
        "id": "Z32XwV5z9ZlD",
        "outputId": "e5f80def-cdfa-483a-8349-baf57621b711",
        "colab": {
          "base_uri": "https://localhost:8080/",
          "height": 710
        }
      },
      "source": [
        "my['CP'] = my['BEST of CP'].apply(lambda x: marks(x))\n",
        "splot=sns.countplot(x='CP',hue='LPA',data=my)\n",
        "plt.gcf().set_size_inches((10, 10))\n",
        "for p in splot.patches:\n",
        "  splot.annotate(format(p.get_height(),'.0f'), (p.get_x() + p.get_width() / 2, p.get_height()), ha = 'center', va = 'center', xytext = (0, 10), textcoords = 'offset points')"
      ],
      "execution_count": 103,
      "outputs": [
        {
          "output_type": "stream",
          "text": [
            "/usr/local/lib/python3.6/dist-packages/ipykernel_launcher.py:1: SettingWithCopyWarning: \n",
            "A value is trying to be set on a copy of a slice from a DataFrame.\n",
            "Try using .loc[row_indexer,col_indexer] = value instead\n",
            "\n",
            "See the caveats in the documentation: https://pandas.pydata.org/pandas-docs/stable/user_guide/indexing.html#returning-a-view-versus-a-copy\n",
            "  \"\"\"Entry point for launching an IPython kernel.\n"
          ],
          "name": "stderr"
        },
        {
          "output_type": "display_data",
          "data": {
            "image/png": "[encoded data removed]",
            "text/plain": [
              "<Figure size 720x720 with 1 Axes>"
            ]
          },
          "metadata": {
            "tags": [],
            "needs_background": "light"
          }
        }
      ]
    },
    {
      "cell_type": "code",
      "metadata": {
        "id": "64t2ef-c93km",
        "outputId": "feb88fef-795f-42a2-b300-2afae8cb02e1",
        "colab": {
          "base_uri": "https://localhost:8080/",
          "height": 710
        }
      },
      "source": [
        "my['Domain'] = my['BEST of Domain'].apply(lambda x: marks(x))\n",
        "splot=sns.countplot(x='Domain',hue='LPA',data=my)\n",
        "plt.gcf().set_size_inches((10, 10))\n",
        "for p in splot.patches:\n",
        "  splot.annotate(format(p.get_height(),'.0f'), (p.get_x() + p.get_width() / 2, p.get_height()), ha = 'center', va = 'center', xytext = (0, 10), textcoords = 'offset points')"
      ],
      "execution_count": 104,
      "outputs": [
        {
          "output_type": "stream",
          "text": [
            "/usr/local/lib/python3.6/dist-packages/ipykernel_launcher.py:1: SettingWithCopyWarning: \n",
            "A value is trying to be set on a copy of a slice from a DataFrame.\n",
            "Try using .loc[row_indexer,col_indexer] = value instead\n",
            "\n",
            "See the caveats in the documentation: https://pandas.pydata.org/pandas-docs/stable/user_guide/indexing.html#returning-a-view-versus-a-copy\n",
            "  \"\"\"Entry point for launching an IPython kernel.\n"
          ],
          "name": "stderr"
        },
        {
          "output_type": "display_data",
          "data": {
            "image/png": "[encoded data removed]",
            "text/plain": [
              "<Figure size 720x720 with 1 Axes>"
            ]
          },
          "metadata": {
            "tags": [],
            "needs_background": "light"
          }
        }
      ]
    },
    {
      "cell_type": "code",
      "metadata": {
        "id": "WnqlVDXv-XD1",
        "outputId": "04c7c1bb-51ee-4792-c410-d4e1c0f0a6ef",
        "colab": {
          "base_uri": "https://localhost:8080/",
          "height": 710
        }
      },
      "source": [
        "my['Auto'] = my['BEST of Automata'].apply(lambda x: Xth(x))\n",
        "splot=sns.countplot(x='Auto',hue='LPA',data=my)\n",
        "plt.gcf().set_size_inches((10, 10))\n",
        "for p in splot.patches:\n",
        "  splot.annotate(format(p.get_height(),'.0f'), (p.get_x() + p.get_width() / 2, p.get_height()), ha = 'center', va = 'center', xytext = (0, 10), textcoords = 'offset points')"
      ],
      "execution_count": 105,
      "outputs": [
        {
          "output_type": "stream",
          "text": [
            "/usr/local/lib/python3.6/dist-packages/ipykernel_launcher.py:1: SettingWithCopyWarning: \n",
            "A value is trying to be set on a copy of a slice from a DataFrame.\n",
            "Try using .loc[row_indexer,col_indexer] = value instead\n",
            "\n",
            "See the caveats in the documentation: https://pandas.pydata.org/pandas-docs/stable/user_guide/indexing.html#returning-a-view-versus-a-copy\n",
            "  \"\"\"Entry point for launching an IPython kernel.\n"
          ],
          "name": "stderr"
        },
        {
          "output_type": "display_data",
          "data": {
            "image/png": "[encoded data removed]",
            "text/plain": [
              "<Figure size 720x720 with 1 Axes>"
            ]
          },
          "metadata": {
            "tags": [],
            "needs_background": "light"
          }
        }
      ]
    },
    {
      "cell_type": "code",
      "metadata": {
        "id": "FQvqrYLh-_XE"
      },
      "source": [
        " "
      ],
      "execution_count": 105,
      "outputs": []
    }
  ]
}