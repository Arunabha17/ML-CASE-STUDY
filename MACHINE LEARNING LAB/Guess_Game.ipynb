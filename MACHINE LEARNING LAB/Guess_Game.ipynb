{
  "nbformat": 4,
  "nbformat_minor": 0,
  "metadata": {
    "colab": {
      "name": "Guess Game.ipynb",
      "provenance": [],
      "collapsed_sections": []
    },
    "kernelspec": {
      "name": "python3",
      "display_name": "Python 3"
    }
  },
  "cells": [
    {
      "cell_type": "code",
      "metadata": {
        "id": "QIkbPztKp4M1",
        "colab_type": "code",
        "colab": {
          "base_uri": "https://localhost:8080/",
          "height": 283
        },
        "outputId": "ea441147-bafc-46e3-b45a-a6d20ab733cb"
      },
      "source": [
        "import random\n",
        "a = random.randint(1,100)\n",
        "print(\"welcome to guessing game\\n\")\n",
        "print(\"write lower and greater\\n yes if the number is right\")\n",
        "b=1;\n",
        "d=100;\n",
        "while(True):\n",
        "    print(\"my guess :- \",a)\n",
        "    c = input()\n",
        "    if c == 'lower':\n",
        "        d=a\n",
        "        a = random.randint(b,d)\n",
        "    elif c == 'greater':\n",
        "        b=a\n",
        "        a = random.randint(b+1,d)\n",
        "    else :\n",
        "        break\n",
        "print(\"your number is \",a)"
      ],
      "execution_count": 1,
      "outputs": [
        {
          "output_type": "stream",
          "text": [
            "welcome to guessing game\n",
            "\n",
            "write lower and greater\n",
            " yes if the number is right\n",
            "my guess :-  21\n",
            "greater\n",
            "my guess :-  39\n",
            "greater\n",
            "my guess :-  70\n",
            "greater\n",
            "my guess :-  99\n",
            "lower\n",
            "my guess :-  74\n",
            "yes\n",
            "your number is  74\n"
          ],
          "name": "stdout"
        }
      ]
    },
    {
      "cell_type": "code",
      "metadata": {
        "id": "wTh_HEzTuYDE",
        "colab_type": "code",
        "colab": {}
      },
      "source": [
        ""
      ],
      "execution_count": null,
      "outputs": []
    }
  ]
}